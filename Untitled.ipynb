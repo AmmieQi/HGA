{
 "cells": [
  {
   "cell_type": "code",
   "execution_count": 1,
   "metadata": {},
   "outputs": [],
   "source": [
    "from data_utils.dataset import TGIFQA\n",
    "\n",
    "csv_dir = '/data/TGIFQA/question'\n",
    "feat_dir = '/data/TGIFQA'\n",
    "vocab_dir = '/data/TGIFQA/vocab'\n",
    "max_n_videos = 100000\n",
    "task = 'FrameQA'"
   ]
  },
  {
   "cell_type": "code",
   "execution_count": 2,
   "metadata": {},
   "outputs": [
    {
     "name": "stderr",
     "output_type": "stream",
     "text": [
      "\u001b[37m\u001b[01m[2020-06-14 20:49:01,231] Load word_matrix from pkl file : /data/TGIFQA/vocab/vocab_embedding_FrameQA.pkl\u001b[0m\n",
      "\u001b[37m\u001b[01m[2020-06-14 20:49:01,238] Load word2idx from pkl file : /data/TGIFQA/vocab/word_to_index_FrameQA.pkl\u001b[0m\n",
      "\u001b[37m\u001b[01m[2020-06-14 20:49:01,241] Load idx2word from pkl file : /data/TGIFQA/vocab/index_to_word_FrameQA.pkl\u001b[0m\n",
      "\u001b[37m\u001b[01m[2020-06-14 20:49:01,243] Load answer2idx from pkl file : /data/TGIFQA/vocab/ans_to_index_FrameQA.pkl\u001b[0m\n",
      "\u001b[37m\u001b[01m[2020-06-14 20:49:01,263] Load idx2answers from pkl file : /data/TGIFQA/vocab/index_to_ans_FrameQA.pkl\u001b[0m\n"
     ]
    }
   ],
   "source": [
    "dataset = TGIFQA(\n",
    "    dataset_name='train',\n",
    "    max_n_videos=max_n_videos,\n",
    "    data_type=task,\n",
    "    csv_dir=csv_dir,\n",
    "    vocab_dir=vocab_dir,\n",
    "    feat_dir=feat_dir)"
   ]
  },
  {
   "cell_type": "code",
   "execution_count": 3,
   "metadata": {},
   "outputs": [
    {
     "data": {
      "text/plain": [
       "(array([[0.22854464, 0.01833448, 0.38006136, ..., 0.36325535, 0.940166  ,\n",
       "         0.1500197 ],\n",
       "        [0.19119763, 0.02218993, 0.38055626, ..., 0.34621406, 0.9528489 ,\n",
       "         0.1549993 ],\n",
       "        [0.18583019, 0.04259358, 0.5306921 , ..., 0.33736026, 0.93730754,\n",
       "         0.13335973],\n",
       "        ...,\n",
       "        [0.        , 0.        , 0.        , ..., 0.        , 0.        ,\n",
       "         0.        ],\n",
       "        [0.        , 0.        , 0.        , ..., 0.        , 0.        ,\n",
       "         0.        ],\n",
       "        [0.        , 0.        , 0.        , ..., 0.        , 0.        ,\n",
       "         0.        ]], dtype=float32),\n",
       " array([[1.5708714, 0.       , 0.       , ..., 0.       , 0.       ,\n",
       "         0.       ],\n",
       "        [1.5165431, 0.       , 0.       , ..., 0.       , 0.       ,\n",
       "         0.       ],\n",
       "        [0.9279626, 0.       , 0.       , ..., 0.       , 0.       ,\n",
       "         0.       ],\n",
       "        ...,\n",
       "        [0.       , 0.       , 0.       , ..., 0.       , 0.       ,\n",
       "         0.       ],\n",
       "        [0.       , 0.       , 0.       , ..., 0.       , 0.       ,\n",
       "         0.       ],\n",
       "        [0.       , 0.       , 0.       , ..., 0.       , 0.       ,\n",
       "         0.       ]], dtype=float32),\n",
       " 42,\n",
       " array([15,  9, 16, 17, 18, 16,  8, 19,  0,  0,  0,  0,  0,  0,  0,  0,  0,\n",
       "         0,  0,  0,  0,  0,  0,  0,  0,  0,  0,  0,  0,  0,  0,  0,  0,  0,\n",
       "         0]),\n",
       " 8,\n",
       " array(153),\n",
       " array(2))"
      ]
     },
     "execution_count": 3,
     "metadata": {},
     "output_type": "execute_result"
    }
   ],
   "source": [
    "dataset.__getitem__(0)"
   ]
  }
 ],
 "metadata": {
  "kernelspec": {
   "display_name": "tgifqa",
   "language": "python",
   "name": "tgifqa"
  },
  "language_info": {
   "codemirror_mode": {
    "name": "ipython",
    "version": 3
   },
   "file_extension": ".py",
   "mimetype": "text/x-python",
   "name": "python",
   "nbconvert_exporter": "python",
   "pygments_lexer": "ipython3",
   "version": "3.6.10"
  }
 },
 "nbformat": 4,
 "nbformat_minor": 2
}
